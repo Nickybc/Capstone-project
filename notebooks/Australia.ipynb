{
  "cells": [
    {
      "cell_type": "code",
      "execution_count": null,
      "metadata": {
        "colab": {
          "base_uri": "https://localhost:8080/"
        },
        "id": "vzQRznrT2Jqq",
        "outputId": "adec99b6-c4ea-4274-8d8c-1722cea6fdb4"
      },
      "outputs": [
        {
          "output_type": "stream",
          "name": "stdout",
          "text": [
            "Collecting ucimlrepo\n",
            "  Downloading ucimlrepo-0.0.7-py3-none-any.whl.metadata (5.5 kB)\n",
            "Requirement already satisfied: pandas>=1.0.0 in /usr/local/lib/python3.11/dist-packages (from ucimlrepo) (2.2.2)\n",
            "Requirement already satisfied: certifi>=2020.12.5 in /usr/local/lib/python3.11/dist-packages (from ucimlrepo) (2025.4.26)\n",
            "Requirement already satisfied: numpy>=1.23.2 in /usr/local/lib/python3.11/dist-packages (from pandas>=1.0.0->ucimlrepo) (2.0.2)\n",
            "Requirement already satisfied: python-dateutil>=2.8.2 in /usr/local/lib/python3.11/dist-packages (from pandas>=1.0.0->ucimlrepo) (2.9.0.post0)\n",
            "Requirement already satisfied: pytz>=2020.1 in /usr/local/lib/python3.11/dist-packages (from pandas>=1.0.0->ucimlrepo) (2025.2)\n",
            "Requirement already satisfied: tzdata>=2022.7 in /usr/local/lib/python3.11/dist-packages (from pandas>=1.0.0->ucimlrepo) (2025.2)\n",
            "Requirement already satisfied: six>=1.5 in /usr/local/lib/python3.11/dist-packages (from python-dateutil>=2.8.2->pandas>=1.0.0->ucimlrepo) (1.17.0)\n",
            "Downloading ucimlrepo-0.0.7-py3-none-any.whl (8.0 kB)\n",
            "Installing collected packages: ucimlrepo\n",
            "Successfully installed ucimlrepo-0.0.7\n"
          ]
        }
      ],
      "source": [
        "!pip install ucimlrepo"
      ]
    },
    {
      "cell_type": "markdown",
      "source": [],
      "metadata": {
        "id": "olFFInIKwJls"
      }
    },
    {
      "cell_type": "code",
      "execution_count": null,
      "metadata": {
        "colab": {
          "base_uri": "https://localhost:8080/"
        },
        "id": "LHSSBfwqCylQ",
        "outputId": "7fd88dfd-e300-4dab-ffa1-415b47fa9f90"
      },
      "outputs": [
        {
          "output_type": "stream",
          "name": "stdout",
          "text": [
            "{'uci_id': 143, 'name': 'Statlog (Australian Credit Approval)', 'repository_url': 'https://archive.ics.uci.edu/dataset/143/statlog+australian+credit+approval', 'data_url': 'https://archive.ics.uci.edu/static/public/143/data.csv', 'abstract': 'This file concerns credit card applications. This database exists elsewhere in the repository (Credit Screening Database) in a slightly different form', 'area': 'Business', 'tasks': ['Classification'], 'characteristics': ['Multivariate'], 'num_instances': 690, 'num_features': 14, 'feature_types': ['Categorical', 'Integer', 'Real'], 'demographics': [], 'target_col': ['A15'], 'index_col': None, 'has_missing_values': 'no', 'missing_values_symbol': None, 'year_of_dataset_creation': 1987, 'last_updated': None, 'dataset_doi': '10.24432/C59012', 'creators': ['Ross Quinlan'], 'intro_paper': None, 'additional_info': {'summary': 'This file concerns credit card applications.  All attribute names and values have been changed to meaningless symbols to protect confidentiality of the data.\\r\\n  \\r\\nThis dataset is interesting because there is a good mix of attributes -- continuous, nominal with small numbers of values, and nominal with larger numbers of values.  There are also a few missing values.\\r\\n', 'purpose': None, 'funded_by': None, 'instances_represent': None, 'recommended_data_splits': None, 'sensitive_data': None, 'preprocessing_description': None, 'variable_info': 'There are 6 numerical and 8 categorical attributes.  The labels have been changed for the convenience of the statistical algorithms.  For example, attribute 4 originally had 3 labels p,g,gg and these have been changed to labels 1,2,3.\\r\\n                             \\r\\nA1: 0,1    CATEGORICAL (formerly: a,b)\\r\\nA2: continuous.\\r\\nA3: continuous.\\r\\nA4: 1,2,3    CATEGORICAL  (formerly: p,g,gg)\\r\\nA5: 1, 2,3,4,5, 6,7,8,9,10,11,12,13,14    CATEGORICAL (formerly: ff,d,i,k,j,aa,m,c,w, e, q, r,cc, x)\\r\\nA6: 1, 2,3, 4,5,6,7,8,9    CATEGORICAL (formerly: ff,dd,j,bb,v,n,o,h,z)\\r\\nA7: continuous.\\r\\nA8: 1, 0    CATEGORICAL (formerly: t, f)\\r\\nA9: 1, 0\\tCATEGORICAL (formerly: t, f)\\r\\nA10:  continuous.\\r\\nA11:  1, 0\\t    CATEGORICAL (formerly t, f)\\r\\nA12:  1, 2, 3    CATEGORICAL (formerly: s, g, p) \\r\\nA13:  continuous.\\r\\nA14:  continuous.\\r\\nA15:   1,2  class attribute (formerly: +,-) ', 'citation': None}}\n",
            "   name     role         type demographic description units missing_values\n",
            "0    A1  Feature  Categorical        None        None  None             no\n",
            "1    A2  Feature   Continuous        None        None  None             no\n",
            "2    A3  Feature   Continuous        None        None  None             no\n",
            "3    A4  Feature  Categorical        None        None  None             no\n",
            "4    A5  Feature  Categorical        None        None  None             no\n",
            "5    A6  Feature  Categorical        None        None  None             no\n",
            "6    A7  Feature   Continuous        None        None  None             no\n",
            "7    A8  Feature  Categorical        None        None  None             no\n",
            "8    A9  Feature  Categorical        None        None  None             no\n",
            "9   A10  Feature   Continuous        None        None  None             no\n",
            "10  A11  Feature  Categorical        None        None  None             no\n",
            "11  A12  Feature  Categorical        None        None  None             no\n",
            "12  A13  Feature   Continuous        None        None  None             no\n",
            "13  A14  Feature   Continuous        None        None  None             no\n",
            "14  A15   Target  Categorical        None        None  None             no\n"
          ]
        }
      ],
      "source": [
        "from ucimlrepo import fetch_ucirepo\n",
        "\n",
        "# fetch dataset\n",
        "statlog_australian_credit_approval = fetch_ucirepo(id=143)\n",
        "\n",
        "# data (as pandas dataframes)\n",
        "X = statlog_australian_credit_approval.data.features\n",
        "y = statlog_australian_credit_approval.data.targets\n",
        "\n",
        "# metadata\n",
        "print(statlog_australian_credit_approval.metadata)\n",
        "\n",
        "# variable information\n",
        "print(statlog_australian_credit_approval.variables)\n"
      ]
    },
    {
      "cell_type": "code",
      "source": [
        "print(X.head())  #特征是否有缺失值？特征是否需要做编码（如类别型变量是否已转为数值）？标签是 0/1 吗？是否平衡？\n",
        "print(X.info())\n",
        "print(y.value_counts())\n"
      ],
      "metadata": {
        "colab": {
          "base_uri": "https://localhost:8080/"
        },
        "id": "QX5evcvuQnrv",
        "outputId": "f0033943-e313-4af1-bfcf-a88fe2043870"
      },
      "execution_count": null,
      "outputs": [
        {
          "output_type": "stream",
          "name": "stdout",
          "text": [
            "   A1     A2     A3  A4  A5  A6     A7  A8  A9  A10  A11  A12  A13   A14\n",
            "0   1  22.08  11.46   2   4   4  1.585   0   0    0    1    2  100  1213\n",
            "1   0  22.67   7.00   2   8   4  0.165   0   0    0    0    2  160     1\n",
            "2   0  29.58   1.75   1   4   4  1.250   0   0    0    1    2  280     1\n",
            "3   0  21.67  11.50   1   5   3  0.000   1   1   11    1    2    0     1\n",
            "4   1  20.17   8.17   2   6   4  1.960   1   1   14    0    2   60   159\n",
            "<class 'pandas.core.frame.DataFrame'>\n",
            "RangeIndex: 690 entries, 0 to 689\n",
            "Data columns (total 14 columns):\n",
            " #   Column  Non-Null Count  Dtype  \n",
            "---  ------  --------------  -----  \n",
            " 0   A1      690 non-null    int64  \n",
            " 1   A2      690 non-null    float64\n",
            " 2   A3      690 non-null    float64\n",
            " 3   A4      690 non-null    int64  \n",
            " 4   A5      690 non-null    int64  \n",
            " 5   A6      690 non-null    int64  \n",
            " 6   A7      690 non-null    float64\n",
            " 7   A8      690 non-null    int64  \n",
            " 8   A9      690 non-null    int64  \n",
            " 9   A10     690 non-null    int64  \n",
            " 10  A11     690 non-null    int64  \n",
            " 11  A12     690 non-null    int64  \n",
            " 12  A13     690 non-null    int64  \n",
            " 13  A14     690 non-null    int64  \n",
            "dtypes: float64(3), int64(11)\n",
            "memory usage: 75.6 KB\n",
            "None\n",
            "A15\n",
            "0      383\n",
            "1      307\n",
            "Name: count, dtype: int64\n"
          ]
        }
      ]
    },
    {
      "cell_type": "code",
      "source": [
        "# ===== 2. 导入库 =====\n",
        "import pandas as pd\n",
        "import numpy as np\n",
        "from ucimlrepo import fetch_ucirepo\n",
        "from sklearn.feature_selection import SelectKBest, mutual_info_classif\n",
        "from sklearn.model_selection import train_test_split\n",
        "from sklearn.ensemble import RandomForestClassifier, GradientBoostingClassifier, StackingClassifier\n",
        "from sklearn.linear_model import LogisticRegression\n",
        "from sklearn.metrics import classification_report, accuracy_score, confusion_matrix\n",
        "from sklearn.preprocessing import LabelEncoder\n",
        "import matplotlib.pyplot as plt\n",
        "import seaborn as sns\n",
        "import joblib\n",
        "\n",
        "# ===== 3. 加载数据集 =====\n",
        "data = fetch_ucirepo(id=143)\n",
        "X = data.data.features.copy()\n",
        "y = data.data.targets.values.ravel()\n",
        "\n",
        "# ===== 4. 编码类别变量 =====\n",
        "for col in X.columns:\n",
        "    if X[col].dtype == 'object':\n",
        "        X[col] = LabelEncoder().fit_transform(X[col])\n",
        "\n",
        "# ===== 5. 特征选择：信息增益（IG） =====\n",
        "selector = SelectKBest(score_func=mutual_info_classif, k=10)\n",
        "X_selected = selector.fit_transform(X, y)\n",
        "\n",
        "selected_features = X.columns[selector.get_support()]\n",
        "feature_scores = selector.scores_[selector.get_support()]\n",
        "print(\"✅ Selected Features:\\n\", selected_features.tolist())\n",
        "\n",
        "# ===== 6. 可视化特征重要性 =====\n",
        "plt.figure(figsize=(10, 6))\n",
        "sns.barplot(x=feature_scores, y=selected_features)\n",
        "plt.title(\"Top 10 Selected Features by Mutual Information (IG)\")\n",
        "plt.xlabel(\"Mutual Information Score\")\n",
        "plt.ylabel(\"Feature\")\n",
        "plt.tight_layout()\n",
        "plt.show()\n",
        "\n",
        "# ===== 7. 拆分训练和测试集 =====\n",
        "X_train, X_test, y_train, y_test = train_test_split(X_selected, y, test_size=0.2, random_state=42)\n",
        "\n",
        "# ===== 8. 构建 Stacking 模型 =====\n",
        "base_learners = [\n",
        "    ('rf', RandomForestClassifier(n_estimators=100, random_state=42)),\n",
        "    ('gb', GradientBoostingClassifier(n_estimators=100, random_state=42))\n",
        "]\n",
        "meta_learner = LogisticRegression()\n",
        "\n",
        "stack_model = StackingClassifier(estimators=base_learners, final_estimator=meta_learner, cv=5)\n",
        "stack_model.fit(X_train, y_train)\n",
        "\n",
        "# ===== 9. 模型评估 =====\n",
        "y_pred = stack_model.predict(X_test)\n",
        "\n",
        "print(\"\\n📊 Confusion Matrix:\\n\", confusion_matrix(y_test, y_pred))\n",
        "print(\"\\n📋 Classification Report:\\n\", classification_report(y_test, y_pred))\n",
        "print(\"✅ Accuracy:\", accuracy_score(y_test, y_pred))\n",
        "\n",
        "# ===== 10. 模型保存与加载验证 =====\n",
        "joblib.dump(stack_model, 'stacked_credit_model.pkl')\n",
        "print(\"✅ 模型已保存为 'stacked_credit_model.pkl'\")\n",
        "\n",
        "loaded_model = joblib.load('stacked_credit_model.pkl')\n",
        "print(\"✅ 加载后的模型准确率:\", accuracy_score(y_test, loaded_model.predict(X_test)))"
      ],
      "metadata": {
        "colab": {
          "base_uri": "https://localhost:8080/",
          "height": 984
        },
        "id": "g0sBrEtyUkQK",
        "outputId": "c7eff1fb-ad20-4e6c-fc5b-5d88e399444a"
      },
      "execution_count": null,
      "outputs": [
        {
          "output_type": "stream",
          "name": "stdout",
          "text": [
            "✅ Selected Features:\n",
            " ['A2', 'A3', 'A5', 'A6', 'A7', 'A8', 'A9', 'A10', 'A13', 'A14']\n"
          ]
        },
        {
          "output_type": "display_data",
          "data": {
            "text/plain": [
              "<Figure size 1000x600 with 1 Axes>"
            ],
            "image/png": "[encoded data removed]"
          },
          "metadata": {}
        },
        {
          "output_type": "stream",
          "name": "stdout",
          "text": [
            "\n",
            "📊 Confusion Matrix:\n",
            " [[75 12]\n",
            " [10 41]]\n",
            "\n",
            "📋 Classification Report:\n",
            "               precision    recall  f1-score   support\n",
            "\n",
            "           0       0.88      0.86      0.87        87\n",
            "           1       0.77      0.80      0.79        51\n",
            "\n",
            "    accuracy                           0.84       138\n",
            "   macro avg       0.83      0.83      0.83       138\n",
            "weighted avg       0.84      0.84      0.84       138\n",
            "\n",
            "✅ Accuracy: 0.8405797101449275\n",
            "✅ 模型已保存为 'stacked_credit_model.pkl'\n",
            "✅ 加载后的模型准确率: 0.8405797101449275\n"
          ]
        }
      ]
    },
    {
      "cell_type": "markdown",
      "source": [
        "## 📊 模型评估分析\n",
        "\n",
        "我们使用 Australian Credit 数据集构建了一个基于 `Stacked Classifier + Filter-Based Feature Selection` 的信用风险预测模型，并使用 80/20 划分方式进行训练与测试。模型的评估结果如下：\n",
        "\n",
        "### ✅ 混淆矩阵\n",
        "[[75 12]\n",
        "[10 41]]\n",
        "\n",
        "markdown\n",
        "复制\n",
        "编辑\n",
        "\n",
        "- **True Negatives (TN)**：75 —— 成功识别为拒贷客户  \n",
        "- **False Positives (FP)**：12 —— 错误地批准了应被拒绝的客户  \n",
        "- **False Negatives (FN)**：10 —— 错误地拒绝了应被批准的客户  \n",
        "- **True Positives (TP)**：41 —— 成功识别为可批准客户\n",
        "\n",
        "### 📋 分类报告\n",
        "| 指标      | 类别 0（拒贷） | 类别 1（批准） |\n",
        "|-----------|----------------|----------------|\n",
        "| 精度      | 0.88           | 0.77           |\n",
        "| 召回率    | 0.86           | 0.80           |\n",
        "| F1 分数   | 0.87           | 0.79           |\n",
        "\n",
        "- **总体准确率**：`0.84`\n",
        "\n",
        "### 🔍 关键分析\n",
        "\n",
        "- 模型在区分信用良好与不良客户方面表现较好，尤其是对拒贷客户（类别 0）的识别能力更强（F1 = 0.87）。\n",
        "- 对批准客户（类别 1）的预测略弱，可能由于数据分布不平衡所致。\n",
        "- 可考虑应用 **SMOTE** 或 **CTGAN** 增强少数类别，提高类别 1 的识别能力。\n",
        "- 从误分类成本角度，**误批准（FP）**带来的潜在信用风险更大，因此可结合业务策略适度提升精度。\n",
        "- 后续拟使用 **SHAP 或 LIME** 分析模型预测依据，增强可解释性，并尝试更复杂的集成方法（如 CatBoost、AutoM"
      ],
      "metadata": {
        "id": "C5zh5YFczWhZ"
      }
    },
    {
      "cell_type": "markdown",
      "source": [
        "['A2', 'A3', 'A4', 'A5', 'A6', 'A7', 'A8', 'A9', 'A10', 'A14'], dtype='object')  需要给这些变量做一点insight，画出并说出含义"
      ],
      "metadata": {
        "id": "kdabojyPeIo8"
      }
    }
  ],
  "metadata": {
    "colab": {
      "provenance": []
    },
    "kernelspec": {
      "display_name": "Python 3",
      "name": "python3"
    },
    "language_info": {
      "name": "python"
    }
  },
  "nbformat": 4,
  "nbformat_minor": 0
}